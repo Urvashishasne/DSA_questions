{
 "cells": [
  {
   "cell_type": "code",
   "execution_count": 2,
   "metadata": {},
   "outputs": [],
   "source": [
    "class Solution:\n",
    "    def mergeAlternately(self, word1: str, word2: str) -> str:\n",
    "        merged=[]\n",
    "        i=0\n",
    "        while i<len(word1) or i<len(word2):\n",
    "            if i<len(word1):\n",
    "                merged.append(word1[i])\n",
    "            if i<len(word2):\n",
    "                merged.append(word2[i])\n",
    "            i+=1\n",
    "        #for j in range(0,j):\n",
    "        #    merged.append(word2[j])\n",
    "        return ''.join(merged)"
   ]
  },
  {
   "cell_type": "code",
   "execution_count": null,
   "metadata": {},
   "outputs": [],
   "source": []
  }
 ],
 "metadata": {
  "kernelspec": {
   "display_name": "Python 3",
   "language": "python",
   "name": "python3"
  },
  "language_info": {
   "codemirror_mode": {
    "name": "ipython",
    "version": 3
   },
   "file_extension": ".py",
   "mimetype": "text/x-python",
   "name": "python",
   "nbconvert_exporter": "python",
   "pygments_lexer": "ipython3",
   "version": "3.11.9"
  }
 },
 "nbformat": 4,
 "nbformat_minor": 2
}
